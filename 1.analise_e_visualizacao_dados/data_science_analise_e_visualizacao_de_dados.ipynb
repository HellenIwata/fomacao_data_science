{
  "nbformat": 4,
  "nbformat_minor": 0,
  "metadata": {
    "colab": {
      "private_outputs": true,
      "provenance": []
    },
    "kernelspec": {
      "name": "python3",
      "display_name": "Python 3"
    },
    "language_info": {
      "name": "python"
    }
  },
  "cells": [
    {
      "cell_type": "markdown",
      "source": [
        "<h1>Data Science: Análise e visualização de dados</h1>\n",
        "<p>Este notebook é responsável por disponibilizar o conteúdo aprendido e desenvolvido nas aulas do primeiro curso da formação data science da alura.</p>\n",
        "\n",
        "<p>Os módulos dos cursos são:</p>\n",
        "\n",
        "<ol>\n",
        "  <li>Data Science: dados e visualizações</li>\n",
        "  <li>Análise explorátória</li>\n",
        "  <li>Variáveis</li>\n",
        "  <li>Data Visualization</li>\n",
        "  <li>Continuando com visualização</li>\n",
        "  <li>Dados e Estatísticas</li>\n",
        "</ol>\n",
        "\n"
      ],
      "metadata": {
        "id": "yVYD2Inwf7jV"
      }
    },
    {
      "cell_type": "markdown",
      "source": [
        "**<h2>1. Data Science: dados e visualizações</h2>**\n"
      ],
      "metadata": {
        "id": "0iq8v9IPixSk"
      }
    },
    {
      "cell_type": "markdown",
      "source": [
        "<h3>Analisando a base de dados 'ratings.csv'</h3>\n",
        "\n",
        "<p>Resumo do que foi aprendido na aula:</p>\n",
        "<ul>\n",
        "  <li>Importar padas(biblioteca de análise de dados);</li>\n",
        "  <li>Ler dados CSV;</li>\n",
        "  <li>Fazer upload de arquivo para o Google Colab;</li>\n",
        "  <li>Renomear colunas;</li>\n",
        "  <li>Contar dados;</li>\n",
        "  <li>Melhorar a visualização das informações.</li>\n",
        "</ul>\n",
        "\n",
        "<p><i>Resumindo as bibliotecas utilizadas:</i></p>\n",
        "\n",
        "<p><b>Pandas</b>: é utilizada para manipulação e análise de dados. Com o Pandas, podemos carregar conjuntos de dados, limpar e transformar os dados, realizar operações estatísticas e muito mais.</p>\n",
        "<p><b>Seaborn</b>: é uma biblioteca de visualização de dados que trabalha em conjunto com o Matplotlib. Ela oferece uma interface de alto nível para criar gráficos estatísticos atraentes e informativos. Com o Seaborn, podemos criar facilmente gráficos como histogramas, boxplots, gráficos de dispersão e muito mais, facilitando a visualização e compreensão dos dados.</p>"
      ],
      "metadata": {
        "id": "sr0mRx_IjVrA"
      }
    },
    {
      "cell_type": "markdown",
      "source": [
        "<h4>Importando a base e corrigindo ela</h4>"
      ],
      "metadata": {
        "id": "Ql1WFkxMwTp2"
      }
    },
    {
      "cell_type": "code",
      "source": [
        "#Importando as bibliotecas e a base de dados de avaliações\n",
        "import pandas as pd\n",
        "import seaborn as sns\n",
        "import matplotlib.pyplot as plt\n",
        "\n",
        "\n",
        "#Importando e visualizando a base de dados 'ratings.csv'\n",
        "tb_notas = pd.read_csv('/content/assets/ratings.csv')\n",
        "\n",
        "print('Exibindo as 5 primeiras linhas da base\\n')\n",
        "tb_notas.head() # .head(): Função responsável por exibir os 5 primeiros dados da tabela"
      ],
      "metadata": {
        "id": "HiLDFGPEwg21"
      },
      "execution_count": null,
      "outputs": []
    },
    {
      "cell_type": "code",
      "source": [
        "#Realizando a alteração no cabeçalho das colunas\n",
        "tb_notas.columns = ['usuarioId', 'filmeID', 'nota', 'momento']\n",
        "display(tb_notas.head())"
      ],
      "metadata": {
        "id": "IyMbOiKHwtZZ"
      },
      "execution_count": null,
      "outputs": []
    },
    {
      "cell_type": "markdown",
      "source": [
        "<h4>Exibindo os dados</h4>"
      ],
      "metadata": {
        "id": "lOSx2kI91QfR"
      }
    },
    {
      "cell_type": "code",
      "source": [
        "#Exibindo a coluna 'nota'\n",
        "#tb_notas['nota']\n",
        "print('Exibindo as 5 primeiras notas da base')\n",
        "display(tb_notas.nota.head())\n",
        "print('\\n')\n",
        "\n",
        "print('Exibindo estatísticas descritivas que resumem a tendência central')\n",
        "display(tb_notas.nota.describe())\n",
        "print('\\n')\n",
        "\n",
        "print('Exibindo quantas vezes a nota aparece')\n",
        "display(tb_notas.nota.value_counts())"
      ],
      "metadata": {
        "id": "8dIQ-DC_1Ypw"
      },
      "execution_count": null,
      "outputs": []
    },
    {
      "cell_type": "code",
      "source": [
        "#Exibindo um gráfico em formato de histograma\n",
        "tb_notas.nota.plot(kind='hist')"
      ],
      "metadata": {
        "id": "Gt3r0ITl1a3m"
      },
      "execution_count": null,
      "outputs": []
    },
    {
      "cell_type": "code",
      "source": [
        "#Exibindo um boxplot\n",
        "sns.boxplot(x=tb_notas.nota)"
      ],
      "metadata": {
        "id": "qLUQgTy93cZ8"
      },
      "execution_count": null,
      "outputs": []
    },
    {
      "cell_type": "markdown",
      "source": [
        "**<h2>2. Análise exploratória</h2>**"
      ],
      "metadata": {
        "id": "ltN3kwJnVczN"
      }
    },
    {
      "cell_type": "markdown",
      "source": [
        "<h3>Analisando a base de dados 'movies.csv'<h3>"
      ],
      "metadata": {
        "id": "Z-v3nKYujYIG"
      }
    },
    {
      "cell_type": "code",
      "source": [
        "#Importando a base de dados 'movies.csv'\n",
        "tb_filmes= pd.read_csv('/content/assets/movies.csv')\n",
        "tb_filmes.columns = ['filmeID', 'titulo', 'generos']\n",
        "tb_filmes.head()"
      ],
      "metadata": {
        "id": "qYukhr3U7X1x"
      },
      "execution_count": null,
      "outputs": []
    },
    {
      "cell_type": "markdown",
      "source": [
        "<h4>Analisando as notas por filme (média)</h4>"
      ],
      "metadata": {
        "id": "D3K56Fpf9IsE"
      }
    },
    {
      "cell_type": "code",
      "source": [
        "print('A média de notas do filme correspondente ao ID 1 é: ')\n",
        "tb_notas.query('filmeID == 1').nota.mean()\n",
        "#notas.query('filmeID == 1').nota.median() #median() = é igual a mediana"
      ],
      "metadata": {
        "id": "gHxhN85l9QUW"
      },
      "execution_count": null,
      "outputs": []
    },
    {
      "cell_type": "markdown",
      "source": [
        "<h4>Agrupando os filmes por ID e retirando as médias de forma automática</h4>"
      ],
      "metadata": {
        "id": "GjsNV2EL-qPp"
      }
    },
    {
      "cell_type": "code",
      "source": [
        "medias_por_filme = tb_notas.groupby('filmeID').mean().nota #.groupby() =responsável por agrupar recursos\n",
        "print('Médias das notas agrupadas por id do filme:\\n')\n",
        "display(medias_por_filme.head())\n",
        "print('\\n')\n",
        "\n",
        "print('Exibindo estatísticas descritivas que resumem a tendência central')\n",
        "display(tb_notas.nota.describe())"
      ],
      "metadata": {
        "id": "n5rEYbL-_NuS"
      },
      "execution_count": null,
      "outputs": []
    },
    {
      "cell_type": "code",
      "source": [
        "medias_por_filme.plot(kind='hist')"
      ],
      "metadata": {
        "id": "jR_EYGwVQpDp"
      },
      "execution_count": null,
      "outputs": []
    },
    {
      "cell_type": "code",
      "source": [
        "#Exibindo um boxplot\n",
        "sns.boxplot(x=tb_notas.nota)"
      ],
      "metadata": {
        "id": "fGHQSaayRcVP"
      },
      "execution_count": null,
      "outputs": []
    },
    {
      "cell_type": "markdown",
      "source": [
        "<h2><b>3. Variáveis</b></h2>\n",
        "\n",
        "<p>Nesta aula, o professor introduziu um conjunto de dados chamado TMDB 5000 Movie Dataset, que contém informações sobre 5000 filmes. Ele explicou a importância de classificar os diferentes tipos de variáveis presentes nos dados, como variáveis categóricas nominais, categóricas ordinais e quantitativas. Além disso, exemplificou a diferença entre esses tipos de variáveis, utilizando exemplos como a língua original dos filmes, escolaridade, orçamento e contagem de votos.</p>\n",
        "\n",
        "<b>Tipos de variáveis</b>\n",
        "<ul>\n",
        "  <li>categóricas nominais: Cada item é único e não há uma ordem específica entre eles, apenas diferentes categorias.</li>\n",
        "  <li>categóricas ordinais: quando existe um ordem específica entre eles</li>\n",
        "  <li>categóricas quantitativas: Quando envolve números</li>\n",
        "</ul>\n",
        "\n",
        "\n"
      ],
      "metadata": {
        "id": "iVBHeIzYUdJD"
      }
    },
    {
      "cell_type": "code",
      "source": [
        "tb_tmdb_filmes = pd.read_csv('/content/assets/tmdb_5000_movies.csv')\n",
        "\n",
        "tb_tmdb_filmes.columns = ['orcamento','generos','homepage','id','palavras_chaves',\n",
        "                        'lingua_original', 'titulo_original','resumo','popularidade',\n",
        "                        'empresas_producao','paises_producao','data_lancamento',\n",
        "                        'receita','tempo_execucao','linguas_faladas', 'status', 'slogan',\n",
        "                        'titulo', 'media_votos', 'contagem_votos']\n",
        "\n",
        "tb_tmdb_filmes.head()\n",
        "\n",
        "tb_tmdb_filmes.media_votos.unique() # .unique() = função responsável por deixar valores únicos"
      ],
      "metadata": {
        "id": "LqAEcS2luj6z"
      },
      "execution_count": null,
      "outputs": []
    },
    {
      "cell_type": "markdown",
      "source": [
        "<h2><b>4. Data visualization</b></h2>\n",
        "\n",
        "<p>Nesta aula aprendi: </p>\n",
        "<ul>\n",
        "  <li>Comparar categorias;</li>\n",
        "  <li>Identificar o que é uma Series;\n",
        "  <li>Instalar o seaborn;</li>\n",
        "  <li>Transformar em dataframe com a função to_frame();</li>\n",
        "  <li>Remover o índice para gerar duas colunas usando a função reset_index();</li>\n",
        "  <li>Utilizar o Categorical do seaborn.</li></li>\n",
        "</ul>"
      ],
      "metadata": {
        "id": "-58swx4p3mNc"
      }
    },
    {
      "cell_type": "code",
      "source": [
        "tb_tmdb_filmes.lingua_original.value_counts()"
      ],
      "metadata": {
        "id": "d85EE8Tx3vWI"
      },
      "execution_count": null,
      "outputs": []
    },
    {
      "cell_type": "code",
      "source": [
        "tb_count_language = tb_tmdb_filmes.lingua_original.value_counts().to_frame().reset_index()\n",
        "# .to_frame() = transforma a coluna em um dataframe\n",
        "#.reset_index() = irá transformar em duas colunas o índice\n",
        "tb_count_language.columns = ['lingua_original', 'total']\n",
        "tb_count_language.head()\n"
      ],
      "metadata": {
        "id": "gsPhyM0SBv1A"
      },
      "execution_count": null,
      "outputs": []
    },
    {
      "cell_type": "code",
      "source": [
        "sns.barplot(x='lingua_original', y='total', data = tb_count_language)\n",
        "#barplot() = plotagem de baixo nível que permite fornecer mais controle sobre cada etapa do processo"
      ],
      "metadata": {
        "id": "iim3OOxrDc4e"
      },
      "execution_count": null,
      "outputs": []
    },
    {
      "cell_type": "code",
      "source": [
        "sns.catplot(x='lingua_original', kind='count', data= tb_tmdb_filmes)\n",
        "#.catplot() = plotagem de alto nível"
      ],
      "metadata": {
        "id": "KsmQHjlREHjT"
      },
      "execution_count": null,
      "outputs": []
    },
    {
      "cell_type": "code",
      "source": [
        "\n",
        "plt.pie(tb_count_language['total'], labels = tb_count_language['lingua_original'])"
      ],
      "metadata": {
        "id": "CXjOW8mWE8oM"
      },
      "execution_count": null,
      "outputs": []
    },
    {
      "cell_type": "code",
      "source": [
        "#Realizar a isolação dos dados da lingua para comparar o ingles com as demais linguas\n",
        "\n",
        "total_lingua = tb_tmdb_filmes['lingua_original'].value_counts()\n",
        "total_lingua_geral = total_lingua.sum()\n",
        "total_lingua_ingles = total_lingua.loc['en']\n",
        "total_outras_linguas = total_lingua_geral - total_lingua_ingles\n",
        "display(total_lingua_ingles,total_outras_linguas)"
      ],
      "metadata": {
        "id": "JZRs3YxhFk_f"
      },
      "execution_count": null,
      "outputs": []
    },
    {
      "cell_type": "code",
      "source": [
        "#Transformando os dados anterior em uma nova DataFrame\n",
        "\n",
        "tb_dados_linguagem = {\n",
        "    'lingua': ['ingles', 'outras'],\n",
        "    'total': [total_lingua_ingles, total_outras_linguas]\n",
        "}\n",
        "tb_dados_linguagem = pd.DataFrame(tb_dados_linguagem)\n",
        "tb_dados_linguagem\n",
        "\n",
        "sns.barplot(data = tb_dados_linguagem, x ='lingua', y='total')"
      ],
      "metadata": {
        "id": "3b9uSioZHyBC"
      },
      "execution_count": null,
      "outputs": []
    },
    {
      "cell_type": "code",
      "source": [
        "lingua_nao_ingles = tb_tmdb_filmes.query('lingua_original != \"en\"')\n",
        "#lingua_nao_ingles = tb_tmdb_filmes.query('lingua_original != \"en\"').lingua_original.value_counts()\n",
        "lingua_nao_ingles_ordem = lingua_nao_ingles.lingua_original.value_counts()\n",
        "display(lingua_nao_ingles_ordem.head())\n",
        "lingua_nao_ingles.head()"
      ],
      "metadata": {
        "id": "-uIBfzyRLqc2"
      },
      "execution_count": null,
      "outputs": []
    },
    {
      "cell_type": "code",
      "source": [
        "sns.catplot(data=lingua_nao_ingles,  x='lingua_original', kind='count')"
      ],
      "metadata": {
        "id": "1JzcKh44_xSR"
      },
      "execution_count": null,
      "outputs": []
    },
    {
      "cell_type": "markdown",
      "source": [
        "<h2><b>5. Continuando com visualização</b></h2>\n",
        "<p>Nesta aula aprendi: </p>\n",
        "<ul>\n",
        "  <li>Reescalar o gráfico (aspect)</li>\n",
        "  <li>ordernar o gráfico(order);\n",
        "  <li>Alterar os tons do gráfico(palette)</li>\n",
        "</ul>"
      ],
      "metadata": {
        "id": "fAZwl0-VV67s"
      }
    },
    {
      "cell_type": "code",
      "source": [
        "#Controlar o aspecto da figura\n",
        "sns.catplot(data=lingua_nao_ingles,  x='lingua_original', kind='count', aspect=2)"
      ],
      "metadata": {
        "id": "BB2JagDjWPSW"
      },
      "execution_count": null,
      "outputs": []
    },
    {
      "cell_type": "code",
      "source": [
        "#Organizando o gráfico por ordem decrescente por aparecimento\n",
        "sns.catplot(data=lingua_nao_ingles,  x='lingua_original', kind='count',\n",
        "            aspect=2, order=lingua_nao_ingles_ordem.index)"
      ],
      "metadata": {
        "id": "snb-OFJqWzwS"
      },
      "execution_count": null,
      "outputs": []
    },
    {
      "cell_type": "code",
      "source": [
        "#Organizando as cores (paletes)\n",
        "\n",
        "sns.catplot(data=lingua_nao_ingles,  x='lingua_original', kind='count',\n",
        "            aspect=2, order=lingua_nao_ingles_ordem.index, palette='GnBu_d')"
      ],
      "metadata": {
        "id": "tiOZFcaCX7xT"
      },
      "execution_count": null,
      "outputs": []
    },
    {
      "cell_type": "markdown",
      "source": [
        "<h2><b>6. Dados e Estatística</b></h2>\n",
        "\n",
        "<p>Nesta aula aprendi: </p>\n",
        "<ul>\n",
        "  <li>Comparar a média de filmes;</li>\n",
        "  <li>Juntar arrays com o np.append();</li>\n",
        "  <li>Reconhecer o que é a dispersão de dados;</li>\n",
        "  <li>Compreender o que é Desvio padrão.</li>\n",
        "</ul>"
      ],
      "metadata": {
        "id": "yexgI56bZ8-o"
      }
    },
    {
      "cell_type": "markdown",
      "source": [
        "<b>Resumo da aula:</b>\n",
        "Nesta aula, o professor realizou uma análise exploratória de dados utilizando o conjunto de dados \"movies.csv\". Ele começou exibindo os dois primeiros filmes do dataset e em seguida buscou as notas desses filmes. Calculou a média e a mediana das notas de cada filme, destacando que essas medidas não conseguem expressar a proporção de cada uma das notas para os filmes. Para ilustrar essa ideia, criou uma situação hipotética em que um grupo de 10 pessoas deu a mesma nota para um filme e utilizou a biblioteca Numpy para calcular a média dessas notas. Em seguida, criou dois conjuntos de notas diferentes e mostrou que, mesmo tendo médias iguais, as distribuições das notas são diferentes. Utilizou o Matplotlib e o Seaborn para plotar gráficos que mostram as distribuições das notas dos filmes, destacando que essas visualizações são mais adequadas para entender o comportamento dos dados do que apenas as medidas de tendência central. Introduziu o conceito de desvio padrão como uma medida de dispersão dos dados e mostrou como calculá-lo utilizando o Numpy. Ressaltou que existem diversas maneiras de analisar os dados e tirar conclusões, e que a análise exploratória é fundamental para entender as tendências de um conjunto de dados."
      ],
      "metadata": {
        "id": "prB_lTLEtYvI"
      }
    },
    {
      "cell_type": "code",
      "source": [
        "tb_filmes.head()"
      ],
      "metadata": {
        "id": "5NVqQnG5hpMI"
      },
      "execution_count": null,
      "outputs": []
    },
    {
      "cell_type": "code",
      "source": [
        "tb_filmes.head(2)"
      ],
      "metadata": {
        "id": "n2p5X1TRhxWP"
      },
      "execution_count": null,
      "outputs": []
    },
    {
      "cell_type": "code",
      "source": [
        "#descobrindo a média dos dois primeiros filmes\n",
        "notas_filme_1 = tb_notas.query('filmeID==1')\n",
        "notas_filme_2 = tb_notas.query('filmeID==2')\n",
        "display(len(notas_filme_1), len(notas_filme_2))"
      ],
      "metadata": {
        "id": "E-PDmZesh4US"
      },
      "execution_count": null,
      "outputs": []
    },
    {
      "cell_type": "code",
      "source": [
        "print('Exibindo a média do filme Toy Store: %.2f' % notas_filme_1.nota.mean())\n",
        "print('Exibindo a média do filme Jumanji: %.2f'%notas_filme_2.nota.mean())\n",
        "\n",
        "print('\\nExibindo a mediana do filme Toy Store: %.2f' % notas_filme_1.nota.median())\n",
        "print('Exibindo a mediana do filme Jumanji: %.2f'%notas_filme_2.nota.median())\n"
      ],
      "metadata": {
        "id": "1oMvvy0cm7t0"
      },
      "execution_count": null,
      "outputs": []
    },
    {
      "cell_type": "code",
      "source": [
        "import numpy as np\n",
        "\n",
        "filme1= np.append(np.array([2.5]*10), np.array([4.5]*10)) # append = para adicionar a array\n",
        "filme2= np.append(np.array([1.5]*10), np.array([2]*10))\n",
        "\n",
        "#np.array([2.5]*10) > Utilizado para criar uma array\n",
        "#np.array([4.5]*10)\n",
        "\n",
        "print(filme1.mean(), filme2.mean())\n",
        "print(np.std(filme1), np.std(filme2))\n",
        "print(np.median(filme1), np.median(filme2))"
      ],
      "metadata": {
        "id": "7KCASxUkop5n"
      },
      "execution_count": null,
      "outputs": []
    },
    {
      "cell_type": "code",
      "source": [
        "sns.displot(filme1)\n",
        "sns.displot(filme2)"
      ],
      "metadata": {
        "id": "V9GZSwaCqxH8"
      },
      "execution_count": null,
      "outputs": []
    },
    {
      "cell_type": "code",
      "source": [
        "sns.boxplot(notas_filme_1.nota)\n",
        "sns.boxplot(notas_filme_2.nota)"
      ],
      "metadata": {
        "id": "7bBrhmd-rIhX"
      },
      "execution_count": null,
      "outputs": []
    },
    {
      "cell_type": "code",
      "source": [
        "plt.boxplot([notas_filme_1.nota ,notas_filme_2.nota])"
      ],
      "metadata": {
        "id": "FGxHUeiUrVTd"
      },
      "execution_count": null,
      "outputs": []
    },
    {
      "cell_type": "code",
      "source": [
        "sns.boxplot(x = 'filmeID', y='nota',data=tb_notas.query('filmeID in [1,2,3,4,5]'))"
      ],
      "metadata": {
        "id": "YmnH5YjprjlM"
      },
      "execution_count": null,
      "outputs": []
    },
    {
      "cell_type": "code",
      "source": [
        "display(notas_filme_1.nota.std())\n",
        "display(notas_filme_2.nota.std())"
      ],
      "metadata": {
        "id": "-hcpe80CsjQ6"
      },
      "execution_count": null,
      "outputs": []
    }
  ]
}